{
  "nbformat": 4,
  "nbformat_minor": 0,
  "metadata": {
    "colab": {
      "name": "project_1.ipynb",
      "provenance": [],
      "collapsed_sections": [],
      "toc_visible": true,
      "authorship_tag": "ABX9TyM6AmIhCqJvOh20tVZwr5Jj",
      "include_colab_link": true
    },
    "kernelspec": {
      "name": "python3",
      "display_name": "Python 3"
    },
    "language_info": {
      "name": "python"
    }
  },
  "cells": [
    {
      "cell_type": "markdown",
      "metadata": {
        "id": "view-in-github",
        "colab_type": "text"
      },
      "source": [
        "<a href=\"https://colab.research.google.com/github/njaincode/final_project/blob/main/project_1.ipynb\" target=\"_parent\"><img src=\"https://colab.research.google.com/assets/colab-badge.svg\" alt=\"Open In Colab\"/></a>"
      ]
    },
    {
      "cell_type": "markdown",
      "metadata": {
        "id": "Mm6oKLj9fbbn"
      },
      "source": [
        "# Girls in computer science "
      ]
    },
    {
      "cell_type": "code",
      "metadata": {
        "colab": {
          "base_uri": "https://localhost:8080/",
          "height": 1000
        },
        "id": "p37RGlW-fmTX",
        "outputId": "3cab1497-b2ec-4a8d-fc7c-32941dad786a"
      },
      "source": [
        "import pandas as pd\n",
        "import numpy as np\n",
        "import matplotlib.pyplot as plt\n",
        "\n",
        "new_cnames = ['Subject', 'Total entries', 'Male percentage', 'Female percentage']\n",
        "subject = 'Computing Science'\n",
        "subject_2015 = 'Computing'\n",
        "\n",
        "def clean_data(df, ishigher_yr2015):\n",
        "  \n",
        "  # Data cleaning\n",
        "\n",
        "  # Get 4 columns (there are no names, so use integer index)\n",
        "  # Column 0 - Subject Title\n",
        "  # Column 1 - Total number of entries\n",
        "  # Column 2 - % of male\n",
        "  # Column 3 - % of female\n",
        "  df_c = df.iloc[:, 0:4]\n",
        "\n",
        "  # Remove top 7 rows to get to data of interest\n",
        "  # First entry should be Accounting\n",
        "\n",
        "  #print(df_c.head(10))\n",
        "  df_c.drop([0,1,2,3,4,5,6,7], inplace=True)\n",
        "  df_c.reset_index(drop=True, inplace=True)\n",
        "  \n",
        "  #print(df_c.head(2))\n",
        "\n",
        "  # Have meaningful column names to work with\n",
        "  column_indices = [0,1,2,3]\n",
        "  old_names = df_c.columns[column_indices]\n",
        "  df_c.rename(columns=dict(zip(old_names, new_cnames)), inplace=True)\n",
        "\n",
        "  # Get index of subject\n",
        "  # For 2015, subject is 'Computing' for Higher and Advanced Higher\n",
        "  if ishigher_yr2015 == True:\n",
        "    subject_index = df_c[df_c['Subject']==subject_2015].index\n",
        "    #print(f'Subject Index 2015')\n",
        "    #print(subject_index)\n",
        "  else:\n",
        "    subject_index = df_c[df_c['Subject']==subject].index\n",
        "    #print(f'Subject Index > 2015')\n",
        "    #print(subject_index)\n",
        "\n",
        "  # Get data for subject\n",
        "  total_entries = df_c.loc[subject_index, 'Total entries']\n",
        "  total_male = df_c.loc[subject_index, 'Male percentage'] * total_entries/100\n",
        "  total_female = total_entries - total_male #df_n5_2019_1.loc[subject_index, 'Female percentage']\n",
        "\n",
        "  return total_entries, total_male, total_female\n",
        "\n",
        "\n",
        "def read_data_2019():\n",
        "  # Read National5, Higher and Advanced Higher stats\n",
        "  n5_path = 'https://github.com/njaincode/final_project/blob/9c105cecfd292f55e6fcee669d15b14297a9b53d/SQA_datasets/2019/ASR2019_National5.xls?raw=true'\n",
        "  h_path = 'https://github.com/njaincode/final_project/blob/9c105cecfd292f55e6fcee669d15b14297a9b53d/SQA_datasets/2019/ASR2019_Higher.xls?raw=true'\n",
        "  ah_path = 'https://github.com/njaincode/final_project/blob/9c105cecfd292f55e6fcee669d15b14297a9b53d/SQA_datasets/2019/ASR2019_AdvancedHigher.xls?raw=true'\n",
        "\n",
        "  # Read sheet name = Table 5\n",
        "  sheet_name = 'Table 5'\n",
        "\n",
        "  # The header is not in first row but row 8th instead\n",
        "  df_n5 = pd.read_excel(n5_path, sheet_name=sheet_name, header=None)\n",
        "  df_h = pd.read_excel(h_path, sheet_name=sheet_name, header=None)\n",
        "  df_ah = pd.read_excel(ah_path, sheet_name=sheet_name, header=None)\n",
        "  \n",
        "  return df_n5, df_h, df_ah\n",
        "  #return df_n5_2019, df_h\n",
        "\n",
        "def read_data_2018():\n",
        "  # Read National5, Higher and Advanced Higher stats\n",
        "  n5_path = 'https://github.com/njaincode/final_project/blob/9c105cecfd292f55e6fcee669d15b14297a9b53d/SQA_datasets/2018/ASR2018_National5.xls?raw=true'\n",
        "  h_path = 'https://github.com/njaincode/final_project/blob/9c105cecfd292f55e6fcee669d15b14297a9b53d/SQA_datasets/2018/ASR2018_Higher.xls?raw=true'\n",
        "  ah_path = 'https://github.com/njaincode/final_project/blob/9c105cecfd292f55e6fcee669d15b14297a9b53d/SQA_datasets/2018/ASR2018_AdvancedHigher.xls?raw=true'\n",
        "\n",
        "  # Read sheet name = Table 5\n",
        "  sheet_name = 'Table 5'\n",
        "\n",
        "  # The header is not in first row but row 8th instead\n",
        "  df_n5 = pd.read_excel(n5_path, sheet_name=sheet_name, header=None)\n",
        "  df_h = pd.read_excel(h_path, sheet_name=sheet_name, header=None)\n",
        "  df_ah = pd.read_excel(ah_path, sheet_name=sheet_name, header=None)\n",
        "  \n",
        "  return df_n5, df_h, df_ah\n",
        "  #return df_n5_2018, df_h\n",
        "\n",
        "def read_data_2017():\n",
        "  # Read National5, Higher and Advanced Higher stats\n",
        "  n5_path = 'https://github.com/njaincode/final_project/blob/9c105cecfd292f55e6fcee669d15b14297a9b53d/SQA_datasets/2017/ASR2017_National5.xls?raw=true'\n",
        "  h_path = 'https://github.com/njaincode/final_project/blob/9c105cecfd292f55e6fcee669d15b14297a9b53d/SQA_datasets/2017/ASR2017_Higher.xls?raw=true'\n",
        "  ah_path = 'https://github.com/njaincode/final_project/blob/9c105cecfd292f55e6fcee669d15b14297a9b53d/SQA_datasets/2017/ASR2017_AdvancedHigher.xls?raw=true'\n",
        "\n",
        "  # Read sheet name = Table 5\n",
        "  sheet_name = 'Table 5'\n",
        "\n",
        "  # The header is not in first row but row 8th instead\n",
        "  df_n5 = pd.read_excel(n5_path, sheet_name=sheet_name,header=None)\n",
        "  df_h = pd.read_excel(h_path, sheet_name=sheet_name,header=None)\n",
        "  df_ah = pd.read_excel(ah_path, sheet_name=sheet_name,header=None)\n",
        "  \n",
        "  return df_n5, df_h, df_ah\n",
        "  #return df_n5_2017, df_h\n",
        "\n",
        "def read_data_2016():\n",
        "  # Read National5, Higher and Advanced Higher stats\n",
        "  n5_path = 'https://github.com/njaincode/final_project/blob/main/SQA_datasets/2016/ASR2016_National5.xls?raw=true'\n",
        "  h_path = 'https://github.com/njaincode/final_project/blob/main/SQA_datasets/2016/ASR2016_Higher.xls?raw=true'\n",
        "  ah_path = 'https://github.com/njaincode/final_project/blob/main/SQA_datasets/2016/ASR2016_AdvancedHigher.xls?raw=true'\n",
        "\n",
        "  # Read sheet name = Table 5\n",
        "  sheet_name = 'Table 5'\n",
        "\n",
        "  # The header is not in first row but row 8th instead\n",
        "  df_n5 = pd.read_excel(n5_path, sheet_name=sheet_name,header=None)\n",
        "  df_h = pd.read_excel(h_path, sheet_name=sheet_name,header=None)\n",
        "  df_ah = pd.read_excel(ah_path, sheet_name=sheet_name,header=None)\n",
        "  \n",
        "  return df_n5, df_h, df_ah\n",
        "  #return df_n5_2016, df_h\n",
        "\n",
        "\n",
        "def read_data_2015():\n",
        "  # Read National5, Higher and Advanced Higher stats\n",
        "  n5_path = 'https://github.com/njaincode/final_project/blob/main/SQA_datasets/2015/ASR2015_National5.xls?raw=true'\n",
        "  h_path = 'https://github.com/njaincode/final_project/blob/main/SQA_datasets/2015/ASR2015_Higher.xls?raw=true'\n",
        "  ah_path = 'https://github.com/njaincode/final_project/blob/main/SQA_datasets/2015/ASR2015_AdvancedHigher.xls?raw=true'\n",
        "  # There has been some changes to exam levels in this year\n",
        "  new_h_path = 'https://github.com/njaincode/final_project/blob/main/SQA_datasets/2015/ASR2015_NewHigher.xls?raw=true'\n",
        "\n",
        "  # Read sheet name = Table 5\n",
        "  sheet_name = 'Table 5'\n",
        "\n",
        "  # The header is not in first row but row 8th instead\n",
        "  df_n5 = pd.read_excel(n5_path, sheet_name=sheet_name,header=None)\n",
        "  df_h = pd.read_excel(h_path, sheet_name=sheet_name,header=None)\n",
        "  df_ah = pd.read_excel(ah_path, sheet_name=sheet_name,header=None)\n",
        "  \n",
        "  return df_n5, df_h, df_ah\n",
        "  #return df_n5_2015, df_h\n",
        "\n",
        "def prepare_n5_data(df_n5_2015, df_n5_2016, df_n5_2017, df_n5_2018, df_n5_2019, ishigher):\n",
        "     \n",
        "  # Data cleaning\n",
        "  total_entries_2019, total_male_2019, total_female_2019 = clean_data(df_n5_2019, False)\n",
        "  total_entries_2018, total_male_2018, total_female_2018 = clean_data(df_n5_2018, False)\n",
        "  total_entries_2017, total_male_2017, total_female_2017 = clean_data(df_n5_2017, False)\n",
        "  total_entries_2016, total_male_2016, total_female_2016 = clean_data(df_n5_2016, False)\n",
        "  if ishigher == True:\n",
        "    total_entries_2015, total_male_2015, total_female_2015 = clean_data(df_n5_2015, ishigher_yr2015=True)\n",
        "  else:\n",
        "    total_entries_2015, total_male_2015, total_female_2015 = clean_data(df_n5_2015, ishigher_yr2015=False)\n",
        "\n",
        "  # Data prep\n",
        "  df_years = pd.DataFrame(columns = ['Total', 'Male', 'Female'], index = [2015, 2016, 2017, 2018, 2019])\n",
        "  \n",
        "  df_years['Total'] =   [total_entries_2015, total_entries_2016, total_entries_2017, total_entries_2018, total_entries_2019]\n",
        "  df_years['Male'] =    [total_male_2015, total_male_2016, total_male_2017, total_male_2018, total_male_2019]\n",
        "  df_years['Female'] =  [total_female_2015, total_female_2016, total_female_2017, total_female_2018, total_female_2019]\n",
        "  \n",
        "  # Change to numerical value\n",
        "  df_years['Total'] = df_years['Total'].astype(int)\n",
        "  df_years['Male'] = df_years['Male'].astype(int)\n",
        "  df_years['Female'] = df_years['Female'].astype(int)\n",
        "\n",
        "  #print(df_years)\n",
        "  return(df_years)\n",
        "  \n",
        "\n",
        "def main_function():\n",
        "  # Setup some display options\n",
        "  pd.options.display.max_columns= 2\n",
        "  pd.options.display.max_rows= 30\n",
        "\n",
        "  # Fetch data\n",
        "  df_n5_2019, df_h_2019, df_ah_2019 = read_data_2019()\n",
        "  df_n5_2018, df_h_2018, df_ah_2018 = read_data_2018()\n",
        "  df_n5_2017, df_h_2017, df_ah_2017 = read_data_2017()\n",
        "  df_n5_2016, df_h_2016, df_ah_2016 = read_data_2016()\n",
        "  df_n5_2015, df_h_2015, df_ah_2015 = read_data_2015()\n",
        "  \n",
        "  n5 = prepare_n5_data(df_n5_2015, df_n5_2016, df_n5_2017, df_n5_2018, df_n5_2019, False)\n",
        "  \n",
        "  #xaxis = [2015, 2016, 2017, 2018, 2019]\n",
        "  #n5_plot.plot(kind='bar', title='National 5 CS students intake', ylabel='Num of entries', xlabel='Year', figsize=(6, 5), stacked=True)\n",
        "  #plt.plot(xaxis, n5['Female'], color='red', marker='o')\n",
        "  \n",
        "  print(f'Head of 2015 Higher')\n",
        "  \n",
        "  higher = prepare_n5_data(df_h_2015, df_h_2016, df_h_2017, df_h_2018, df_h_2019, ishigher=True)\n",
        "  \n",
        "  #higher_plot.plot(kind='bar', title='Higher CS students intake', ylabel='Num of entries', xlabel='Year', figsize=(6, 5), stacked=True)\n",
        "  #plt.plot(xaxis, higher['Female'], color='blue', marker='o')\n",
        "\n",
        "  print(f'Advanced Higher')\n",
        "  ahigher = prepare_n5_data(df_ah_2015, df_ah_2016, df_ah_2017, df_ah_2018, df_ah_2019, ishigher=True)\n",
        "  \n",
        "  #ahigher_plot.plot(kind='bar', title='Advanced Higher CS students intake', ylabel='Num of entries', xlabel='Year', figsize=(6, 5), stacked=True)\n",
        "\n",
        "  # Plot side-by-side\n",
        "  xaxis = [2015, 2016, 2017, 2018, 2019]\n",
        "  \n",
        "  \n",
        "  n5_plot = n5[['Female', 'Male']]\n",
        "  higher_plot = higher[['Female', 'Male']]\n",
        "  ahigher_plot = ahigher[['Female', 'Male']]\n",
        "\n",
        "  fig, ax = plt.subplots(1, 3, figsize=(30,10), sharey=True, sharex=True)\n",
        "  n5_plot.plot(kind='bar', title='National 5 CS students intake', ylabel='Num of entries', xlabel='Year', ax=ax[0])\n",
        "  higher_plot.plot(kind='bar', title='Higher CS students intake', ylabel='Num of entries', xlabel='Year', ax=ax[1])\n",
        "  ahigher_plot.plot(kind='bar', title='Advanced Higher CS students intake', ylabel='Num of entries', xlabel='Year', ax=ax[2])\n",
        "\n",
        "  ax[2].legend(loc=\"upper right\")\n",
        "  \n",
        "  # Control y-axis, step size=500\n",
        "  major_ticks = np.arange(0, 7001, 500)\n",
        "  ax[2].set_yticks(major_ticks)\n",
        "  plt.show()\n",
        "\n",
        "  # Example to draw line graph\n",
        "  fig, ax = plt.subplots(1, 1, figsize=(15, 8))\n",
        "  xtry1 = [2015, 2016, 2017, 2018, 2019]\n",
        "  ytry1 = ahigher['Female']\n",
        "  ytry2 = ahigher['Male']\n",
        "  # FIXME WHy I need to do this? If not, step size=0.5 instead of 1\n",
        "  major_ticks = np.arange(2015, 2020, 1)\n",
        "  ax.set_xticks(major_ticks)\n",
        "  ax.set_title('Students in CS AH')\n",
        "  ax.plot(ytry1, color='blue', label='Female')\n",
        "  ax.plot(ytry2, color='orange', label='Male')\n",
        " \n",
        "  plt.show()\n",
        "\n",
        "main_function()\n",
        "# TODO - What is the most famous subject of girls at all 3 levels?\n"
      ],
      "execution_count": null,
      "outputs": [
        {
          "output_type": "stream",
          "text": [
            "/usr/local/lib/python3.7/dist-packages/pandas/core/frame.py:4174: SettingWithCopyWarning: \n",
            "A value is trying to be set on a copy of a slice from a DataFrame\n",
            "\n",
            "See the caveats in the documentation: https://pandas.pydata.org/pandas-docs/stable/user_guide/indexing.html#returning-a-view-versus-a-copy\n",
            "  errors=errors,\n",
            "/usr/local/lib/python3.7/dist-packages/pandas/core/frame.py:4308: SettingWithCopyWarning: \n",
            "A value is trying to be set on a copy of a slice from a DataFrame\n",
            "\n",
            "See the caveats in the documentation: https://pandas.pydata.org/pandas-docs/stable/user_guide/indexing.html#returning-a-view-versus-a-copy\n",
            "  errors=errors,\n"
          ],
          "name": "stderr"
        },
        {
          "output_type": "stream",
          "text": [
            "Head of 2015 Higher\n",
            "Advanced Higher\n"
          ],
          "name": "stdout"
        },
        {
          "output_type": "display_data",
          "data": {
            "image/png": "[encoded data removed]",
            "text/plain": [
              "<Figure size 2160x720 with 3 Axes>"
            ]
          },
          "metadata": {
            "tags": [],
            "needs_background": "light"
          }
        },
        {
          "output_type": "display_data",
          "data": {
            "image/png": "[encoded data removed]",
            "text/plain": [
              "<Figure size 1080x576 with 1 Axes>"
            ]
          },
          "metadata": {
            "tags": [],
            "needs_background": "light"
          }
        }
      ]
    },
    {
      "cell_type": "markdown",
      "metadata": {
        "id": "8V2c3G1X1fMx"
      },
      "source": [
        "# Compare grades of girls vs boys in CS in Advanced Higher"
      ]
    },
    {
      "cell_type": "code",
      "metadata": {
        "colab": {
          "base_uri": "https://localhost:8080/",
          "height": 1000
        },
        "id": "XwpraemO10Io",
        "outputId": "dbf0bfc8-b163-4a89-b5e4-e63789459761"
      },
      "source": [
        "import pandas as pd\n",
        "import numpy as np\n",
        "import matplotlib.pyplot as plt\n",
        "\n",
        "new_cnames = ['Subject', 'Total entries', 'Male percentage', 'Female percentage']\n",
        "subject = 'Computing Science'\n",
        "subject_2015 = 'Computing'\n",
        "\n",
        "\n",
        "def read_data_ah():\n",
        "  # Read Advanced Higher stats for years [2015:2019]\n",
        "  # Can there be an array of df?\n",
        "  \n",
        "  # Read sheet name = Table 5\n",
        "  sheet_name = 'Table 5'\n",
        "\n",
        "  ah_path = 'https://github.com/njaincode/final_project/blob/main/SQA_datasets/2015/ASR2015_AdvancedHigher.xls?raw=true'\n",
        "  # The header is not in first row but row 8th instead\n",
        "  df_15 = pd.read_excel(ah_path, sheet_name=sheet_name,header=None)\n",
        "  \n",
        "  ah_path = 'https://github.com/njaincode/final_project/blob/main/SQA_datasets/2016/ASR2016_AdvancedHigher.xls?raw=true'\n",
        "  df_16 = pd.read_excel(ah_path, sheet_name=sheet_name,header=None)\n",
        "  \n",
        "  ah_path = 'https://github.com/njaincode/final_project/blob/main/SQA_datasets/2017/ASR2017_AdvancedHigher.xls?raw=true'\n",
        "  df_17 = pd.read_excel(ah_path, sheet_name=sheet_name,header=None)\n",
        "  \n",
        "  ah_path = 'https://github.com/njaincode/final_project/blob/main/SQA_datasets/2018/ASR2018_AdvancedHigher.xls?raw=true'\n",
        "  df_18 = pd.read_excel(ah_path, sheet_name=sheet_name,header=None)\n",
        "  \n",
        "  ah_path = 'https://github.com/njaincode/final_project/blob/main/SQA_datasets/2019/ASR2019_AdvancedHigher.xls?raw=true'\n",
        "  df_19 = pd.read_excel(ah_path, sheet_name=sheet_name,header=None)\n",
        " \n",
        "  return df_15, df_16, df_17, df_18, df_19\n",
        "  \n",
        "\n",
        "def clean_data(df, ishigher_yr15, isyr19):\n",
        "  \n",
        "  # Data cleaning\n",
        "\n",
        "  # Get 4 columns (there are no names, so use integer index)\n",
        "  # Column 0 - Subject Title\n",
        "  # Column 1 - Total number of entries\n",
        "  # Column 2 - % of boys\n",
        "  # Column 3 - % of girls\n",
        "  # Column 10 - % of boys with graded A-C\n",
        "  # Column 11 - % of girls with graded A-C\n",
        "  #print(df.columns)\n",
        "  if isyr19 == True:\n",
        "    # From year 2019 there are more columns for unknown and NA\n",
        "    df_c = df.iloc[:, [0,1,2,3,10,11]]\n",
        "  else:\n",
        "    df_c = df.iloc[:, [0,1,2,3,6,7]]\n",
        "\n",
        "  # Remove top 7 rows to get to data of interest\n",
        "  # First entry should be Accounting\n",
        "  df_c.drop([0,1,2,3,4,5,6,7], inplace=True)\n",
        "  df_c.reset_index(drop=True, inplace=True)\n",
        "  \n",
        "  # Have meaningful column names to work with\n",
        "  column_indices = [0,1,4,5]\n",
        "  old_names = df_c.columns[column_indices]\n",
        "  df_c.rename(columns=dict(zip(old_names, new_cnames)), inplace=True)\n",
        "\n",
        "  # Get index of subject\n",
        "  # For 2015, subject is 'Computing' for Higher and Advanced Higher\n",
        "  if ishigher_yr15 == True:\n",
        "    subject_index = df_c[df_c['Subject']==subject_2015].index\n",
        "    #print(f'Subject Index 2015')\n",
        "    #print(subject_index)\n",
        "  else:\n",
        "    subject_index = df_c[df_c['Subject']==subject].index\n",
        "    #print(f'Subject Index > 2015')\n",
        "    #print(subject_index)\n",
        "\n",
        "  # Get data for subject\n",
        "  total_entries = df_c.loc[subject_index, 'Total entries']\n",
        "  # To show the comparison, its better to show %age of girls with higher grades rather than total number\n",
        "  total_male = df_c.loc[subject_index, 'Male percentage']\n",
        "  total_female = df_c.loc[subject_index, 'Female percentage']\n",
        "  \n",
        "  return total_entries, total_male, total_female\n",
        "\n",
        "def prepare_data(df_15, df_16, df_17, df_18, df_19, ishigher):\n",
        "     \n",
        "  # Data cleaning\n",
        "  total_entries_2019, total_male_2019, total_female_2019 = clean_data(df_19, False, isyr19=True)\n",
        "  total_entries_2018, total_male_2018, total_female_2018 = clean_data(df_18, False, False)\n",
        "  total_entries_2017, total_male_2017, total_female_2017 = clean_data(df_17, False, False)\n",
        "  total_entries_2016, total_male_2016, total_female_2016 = clean_data(df_16, False, False)\n",
        "  if ishigher == True:\n",
        "    total_entries_2015, total_male_2015, total_female_2015 = clean_data(df_15, ishigher_yr15=True, isyr19=False)\n",
        "  else:\n",
        "    total_entries_2015, total_male_2015, total_female_2015 = clean_data(df_15, ishigher_yr15=False, isyr19=False)\n",
        "\n",
        "  # Data prep\n",
        "  df_years = pd.DataFrame(columns = ['% of total', 'Male', 'Female'], index = [2015, 2016, 2017, 2018, 2019])\n",
        "  \n",
        "  df_years['% of total'] =   [total_entries_2015, total_entries_2016, total_entries_2017, total_entries_2018, total_entries_2019]\n",
        "  df_years['Male'] =    [total_male_2015, total_male_2016, total_male_2017, total_male_2018, total_male_2019]\n",
        "  df_years['Female'] =  [total_female_2015, total_female_2016, total_female_2017, total_female_2018, total_female_2019]\n",
        "  \n",
        "  # Change to numerical value\n",
        "  df_years['% of total'] = df_years['% of total'].astype(int)\n",
        "  df_years['Male'] = df_years['Male'].astype(int)\n",
        "  df_years['Female'] = df_years['Female'].astype(int)\n",
        "\n",
        "  return(df_years)\n",
        "\n",
        "def main_function():\n",
        "  # Setup some display options\n",
        "  pd.options.display.max_columns= 10\n",
        "  pd.options.display.max_rows= 30\n",
        "\n",
        "  # Fetch data\n",
        "  df_ah_2015, df_ah_2016, df_ah_2017, df_ah_2018, df_ah_2019 = read_data_ah()\n",
        "  \n",
        "  ahigher = prepare_data(df_ah_2015, df_ah_2016, df_ah_2017, df_ah_2018, df_ah_2019, ishigher=True)\n",
        "  \n",
        "  xaxis = [2015, 2016, 2017, 2018, 2019]\n",
        "  ahigher_plot = ahigher[['Female', 'Male']]\n",
        "\n",
        "  fig, ax = plt.subplots(1, 1, figsize=(15,8))\n",
        "  ahigher_plot.plot(kind='bar', title='Advanced Higher CS students % grades [A:C]', ylabel='% of total entries', xlabel='Year', ax=ax)\n",
        "  ax.legend(loc=\"upper right\")\n",
        "  ax.grid(zorder=0)\n",
        "  # FIXME ax.bar(range(len(ahigher_plot)), ahigher_plot, width=0.3, align='center', color='skyblue', zorder=3)\n",
        "\n",
        "  plt.show()\n",
        "\n",
        "main_function()\n"
      ],
      "execution_count": null,
      "outputs": [
        {
          "output_type": "stream",
          "text": [
            "/usr/local/lib/python3.7/dist-packages/pandas/core/frame.py:4174: SettingWithCopyWarning: \n",
            "A value is trying to be set on a copy of a slice from a DataFrame\n",
            "\n",
            "See the caveats in the documentation: https://pandas.pydata.org/pandas-docs/stable/user_guide/indexing.html#returning-a-view-versus-a-copy\n",
            "  errors=errors,\n",
            "/usr/local/lib/python3.7/dist-packages/pandas/core/frame.py:4308: SettingWithCopyWarning: \n",
            "A value is trying to be set on a copy of a slice from a DataFrame\n",
            "\n",
            "See the caveats in the documentation: https://pandas.pydata.org/pandas-docs/stable/user_guide/indexing.html#returning-a-view-versus-a-copy\n",
            "  errors=errors,\n"
          ],
          "name": "stderr"
        },
        {
          "output_type": "error",
          "ename": "ValueError",
          "evalue": "ignored",
          "traceback": [
            "\u001b[0;31m---------------------------------------------------------------------------\u001b[0m",
            "\u001b[0;31mValueError\u001b[0m                                Traceback (most recent call last)",
            "\u001b[0;32m<ipython-input-18-771fb837271c>\u001b[0m in \u001b[0;36m<module>\u001b[0;34m()\u001b[0m\n\u001b[1;32m    128\u001b[0m   \u001b[0mplt\u001b[0m\u001b[0;34m.\u001b[0m\u001b[0mshow\u001b[0m\u001b[0;34m(\u001b[0m\u001b[0;34m)\u001b[0m\u001b[0;34m\u001b[0m\u001b[0;34m\u001b[0m\u001b[0m\n\u001b[1;32m    129\u001b[0m \u001b[0;34m\u001b[0m\u001b[0m\n\u001b[0;32m--> 130\u001b[0;31m \u001b[0mmain_function\u001b[0m\u001b[0;34m(\u001b[0m\u001b[0;34m)\u001b[0m\u001b[0;34m\u001b[0m\u001b[0;34m\u001b[0m\u001b[0m\n\u001b[0m",
            "\u001b[0;32m<ipython-input-18-771fb837271c>\u001b[0m in \u001b[0;36mmain_function\u001b[0;34m()\u001b[0m\n\u001b[1;32m    124\u001b[0m   \u001b[0max\u001b[0m\u001b[0;34m.\u001b[0m\u001b[0mlegend\u001b[0m\u001b[0;34m(\u001b[0m\u001b[0mloc\u001b[0m\u001b[0;34m=\u001b[0m\u001b[0;34m\"upper right\"\u001b[0m\u001b[0;34m)\u001b[0m\u001b[0;34m\u001b[0m\u001b[0;34m\u001b[0m\u001b[0m\n\u001b[1;32m    125\u001b[0m   \u001b[0max\u001b[0m\u001b[0;34m.\u001b[0m\u001b[0mgrid\u001b[0m\u001b[0;34m(\u001b[0m\u001b[0mzorder\u001b[0m\u001b[0;34m=\u001b[0m\u001b[0;36m0\u001b[0m\u001b[0;34m)\u001b[0m\u001b[0;34m\u001b[0m\u001b[0;34m\u001b[0m\u001b[0m\n\u001b[0;32m--> 126\u001b[0;31m   \u001b[0max\u001b[0m\u001b[0;34m.\u001b[0m\u001b[0mbar\u001b[0m\u001b[0;34m(\u001b[0m\u001b[0mrange\u001b[0m\u001b[0;34m(\u001b[0m\u001b[0mlen\u001b[0m\u001b[0;34m(\u001b[0m\u001b[0mahigher_plot\u001b[0m\u001b[0;34m)\u001b[0m\u001b[0;34m)\u001b[0m\u001b[0;34m,\u001b[0m \u001b[0mahigher_plot\u001b[0m\u001b[0;34m,\u001b[0m \u001b[0mwidth\u001b[0m\u001b[0;34m=\u001b[0m\u001b[0;36m0.3\u001b[0m\u001b[0;34m,\u001b[0m \u001b[0malign\u001b[0m\u001b[0;34m=\u001b[0m\u001b[0;34m'center'\u001b[0m\u001b[0;34m,\u001b[0m \u001b[0mcolor\u001b[0m\u001b[0;34m=\u001b[0m\u001b[0;34m'skyblue'\u001b[0m\u001b[0;34m,\u001b[0m \u001b[0mzorder\u001b[0m\u001b[0;34m=\u001b[0m\u001b[0;36m3\u001b[0m\u001b[0;34m)\u001b[0m\u001b[0;34m\u001b[0m\u001b[0;34m\u001b[0m\u001b[0m\n\u001b[0m\u001b[1;32m    127\u001b[0m \u001b[0;34m\u001b[0m\u001b[0m\n\u001b[1;32m    128\u001b[0m   \u001b[0mplt\u001b[0m\u001b[0;34m.\u001b[0m\u001b[0mshow\u001b[0m\u001b[0;34m(\u001b[0m\u001b[0;34m)\u001b[0m\u001b[0;34m\u001b[0m\u001b[0;34m\u001b[0m\u001b[0m\n",
            "\u001b[0;32m/usr/local/lib/python3.7/dist-packages/matplotlib/__init__.py\u001b[0m in \u001b[0;36minner\u001b[0;34m(ax, data, *args, **kwargs)\u001b[0m\n\u001b[1;32m   1563\u001b[0m     \u001b[0;32mdef\u001b[0m \u001b[0minner\u001b[0m\u001b[0;34m(\u001b[0m\u001b[0max\u001b[0m\u001b[0;34m,\u001b[0m \u001b[0;34m*\u001b[0m\u001b[0margs\u001b[0m\u001b[0;34m,\u001b[0m \u001b[0mdata\u001b[0m\u001b[0;34m=\u001b[0m\u001b[0;32mNone\u001b[0m\u001b[0;34m,\u001b[0m \u001b[0;34m**\u001b[0m\u001b[0mkwargs\u001b[0m\u001b[0;34m)\u001b[0m\u001b[0;34m:\u001b[0m\u001b[0;34m\u001b[0m\u001b[0;34m\u001b[0m\u001b[0m\n\u001b[1;32m   1564\u001b[0m         \u001b[0;32mif\u001b[0m \u001b[0mdata\u001b[0m \u001b[0;32mis\u001b[0m \u001b[0;32mNone\u001b[0m\u001b[0;34m:\u001b[0m\u001b[0;34m\u001b[0m\u001b[0;34m\u001b[0m\u001b[0m\n\u001b[0;32m-> 1565\u001b[0;31m             \u001b[0;32mreturn\u001b[0m \u001b[0mfunc\u001b[0m\u001b[0;34m(\u001b[0m\u001b[0max\u001b[0m\u001b[0;34m,\u001b[0m \u001b[0;34m*\u001b[0m\u001b[0mmap\u001b[0m\u001b[0;34m(\u001b[0m\u001b[0msanitize_sequence\u001b[0m\u001b[0;34m,\u001b[0m \u001b[0margs\u001b[0m\u001b[0;34m)\u001b[0m\u001b[0;34m,\u001b[0m \u001b[0;34m**\u001b[0m\u001b[0mkwargs\u001b[0m\u001b[0;34m)\u001b[0m\u001b[0;34m\u001b[0m\u001b[0;34m\u001b[0m\u001b[0m\n\u001b[0m\u001b[1;32m   1566\u001b[0m \u001b[0;34m\u001b[0m\u001b[0m\n\u001b[1;32m   1567\u001b[0m         \u001b[0mbound\u001b[0m \u001b[0;34m=\u001b[0m \u001b[0mnew_sig\u001b[0m\u001b[0;34m.\u001b[0m\u001b[0mbind\u001b[0m\u001b[0;34m(\u001b[0m\u001b[0max\u001b[0m\u001b[0;34m,\u001b[0m \u001b[0;34m*\u001b[0m\u001b[0margs\u001b[0m\u001b[0;34m,\u001b[0m \u001b[0;34m**\u001b[0m\u001b[0mkwargs\u001b[0m\u001b[0;34m)\u001b[0m\u001b[0;34m\u001b[0m\u001b[0;34m\u001b[0m\u001b[0m\n",
            "\u001b[0;32m/usr/local/lib/python3.7/dist-packages/matplotlib/axes/_axes.py\u001b[0m in \u001b[0;36mbar\u001b[0;34m(self, x, height, width, bottom, align, **kwargs)\u001b[0m\n\u001b[1;32m   2340\u001b[0m         x, height, width, y, linewidth = np.broadcast_arrays(\n\u001b[1;32m   2341\u001b[0m             \u001b[0;31m# Make args iterable too.\u001b[0m\u001b[0;34m\u001b[0m\u001b[0;34m\u001b[0m\u001b[0;34m\u001b[0m\u001b[0m\n\u001b[0;32m-> 2342\u001b[0;31m             np.atleast_1d(x), height, width, y, linewidth)\n\u001b[0m\u001b[1;32m   2343\u001b[0m \u001b[0;34m\u001b[0m\u001b[0m\n\u001b[1;32m   2344\u001b[0m         \u001b[0;31m# Now that units have been converted, set the tick locations.\u001b[0m\u001b[0;34m\u001b[0m\u001b[0;34m\u001b[0m\u001b[0;34m\u001b[0m\u001b[0m\n",
            "\u001b[0;32m<__array_function__ internals>\u001b[0m in \u001b[0;36mbroadcast_arrays\u001b[0;34m(*args, **kwargs)\u001b[0m\n",
            "\u001b[0;32m/usr/local/lib/python3.7/dist-packages/numpy/lib/stride_tricks.py\u001b[0m in \u001b[0;36mbroadcast_arrays\u001b[0;34m(subok, *args)\u001b[0m\n\u001b[1;32m    256\u001b[0m     \u001b[0margs\u001b[0m \u001b[0;34m=\u001b[0m \u001b[0;34m[\u001b[0m\u001b[0mnp\u001b[0m\u001b[0;34m.\u001b[0m\u001b[0marray\u001b[0m\u001b[0;34m(\u001b[0m\u001b[0m_m\u001b[0m\u001b[0;34m,\u001b[0m \u001b[0mcopy\u001b[0m\u001b[0;34m=\u001b[0m\u001b[0;32mFalse\u001b[0m\u001b[0;34m,\u001b[0m \u001b[0msubok\u001b[0m\u001b[0;34m=\u001b[0m\u001b[0msubok\u001b[0m\u001b[0;34m)\u001b[0m \u001b[0;32mfor\u001b[0m \u001b[0m_m\u001b[0m \u001b[0;32min\u001b[0m \u001b[0margs\u001b[0m\u001b[0;34m]\u001b[0m\u001b[0;34m\u001b[0m\u001b[0;34m\u001b[0m\u001b[0m\n\u001b[1;32m    257\u001b[0m \u001b[0;34m\u001b[0m\u001b[0m\n\u001b[0;32m--> 258\u001b[0;31m     \u001b[0mshape\u001b[0m \u001b[0;34m=\u001b[0m \u001b[0m_broadcast_shape\u001b[0m\u001b[0;34m(\u001b[0m\u001b[0;34m*\u001b[0m\u001b[0margs\u001b[0m\u001b[0;34m)\u001b[0m\u001b[0;34m\u001b[0m\u001b[0;34m\u001b[0m\u001b[0m\n\u001b[0m\u001b[1;32m    259\u001b[0m \u001b[0;34m\u001b[0m\u001b[0m\n\u001b[1;32m    260\u001b[0m     \u001b[0;32mif\u001b[0m \u001b[0mall\u001b[0m\u001b[0;34m(\u001b[0m\u001b[0marray\u001b[0m\u001b[0;34m.\u001b[0m\u001b[0mshape\u001b[0m \u001b[0;34m==\u001b[0m \u001b[0mshape\u001b[0m \u001b[0;32mfor\u001b[0m \u001b[0marray\u001b[0m \u001b[0;32min\u001b[0m \u001b[0margs\u001b[0m\u001b[0;34m)\u001b[0m\u001b[0;34m:\u001b[0m\u001b[0;34m\u001b[0m\u001b[0;34m\u001b[0m\u001b[0m\n",
            "\u001b[0;32m/usr/local/lib/python3.7/dist-packages/numpy/lib/stride_tricks.py\u001b[0m in \u001b[0;36m_broadcast_shape\u001b[0;34m(*args)\u001b[0m\n\u001b[1;32m    187\u001b[0m     \u001b[0;31m# use the old-iterator because np.nditer does not handle size 0 arrays\u001b[0m\u001b[0;34m\u001b[0m\u001b[0;34m\u001b[0m\u001b[0;34m\u001b[0m\u001b[0m\n\u001b[1;32m    188\u001b[0m     \u001b[0;31m# consistently\u001b[0m\u001b[0;34m\u001b[0m\u001b[0;34m\u001b[0m\u001b[0;34m\u001b[0m\u001b[0m\n\u001b[0;32m--> 189\u001b[0;31m     \u001b[0mb\u001b[0m \u001b[0;34m=\u001b[0m \u001b[0mnp\u001b[0m\u001b[0;34m.\u001b[0m\u001b[0mbroadcast\u001b[0m\u001b[0;34m(\u001b[0m\u001b[0;34m*\u001b[0m\u001b[0margs\u001b[0m\u001b[0;34m[\u001b[0m\u001b[0;34m:\u001b[0m\u001b[0;36m32\u001b[0m\u001b[0;34m]\u001b[0m\u001b[0;34m)\u001b[0m\u001b[0;34m\u001b[0m\u001b[0;34m\u001b[0m\u001b[0m\n\u001b[0m\u001b[1;32m    190\u001b[0m     \u001b[0;31m# unfortunately, it cannot handle 32 or more arguments directly\u001b[0m\u001b[0;34m\u001b[0m\u001b[0;34m\u001b[0m\u001b[0;34m\u001b[0m\u001b[0m\n\u001b[1;32m    191\u001b[0m     \u001b[0;32mfor\u001b[0m \u001b[0mpos\u001b[0m \u001b[0;32min\u001b[0m \u001b[0mrange\u001b[0m\u001b[0;34m(\u001b[0m\u001b[0;36m32\u001b[0m\u001b[0;34m,\u001b[0m \u001b[0mlen\u001b[0m\u001b[0;34m(\u001b[0m\u001b[0margs\u001b[0m\u001b[0;34m)\u001b[0m\u001b[0;34m,\u001b[0m \u001b[0;36m31\u001b[0m\u001b[0;34m)\u001b[0m\u001b[0;34m:\u001b[0m\u001b[0;34m\u001b[0m\u001b[0;34m\u001b[0m\u001b[0m\n",
            "\u001b[0;31mValueError\u001b[0m: shape mismatch: objects cannot be broadcast to a single shape"
          ]
        },
        {
          "output_type": "display_data",
          "data": {
            "image/png": "[encoded data removed]",
            "text/plain": [
              "<Figure size 1080x576 with 1 Axes>"
            ]
          },
          "metadata": {
            "tags": [],
            "needs_background": "light"
          }
        }
      ]
    },
    {
      "cell_type": "markdown",
      "metadata": {
        "id": "t1tz2CtUAEjA"
      },
      "source": [
        "# How many girls take Maths & Science i.e. STEM subjects\n",
        "Aim is to show comparison of Maths/Science with CS"
      ]
    },
    {
      "cell_type": "code",
      "metadata": {
        "id": "UrOYTANOAVk-"
      },
      "source": [
        "tbd"
      ],
      "execution_count": null,
      "outputs": []
    },
    {
      "cell_type": "markdown",
      "metadata": {
        "id": "SHJk6LbJAXew"
      },
      "source": [
        "# How many girls take Admin/IT, Arts, English, Social Studies\n",
        "Aim is to show career paths from subjects most taken by girls"
      ]
    },
    {
      "cell_type": "markdown",
      "metadata": {
        "id": "9iNaSpKmA19P"
      },
      "source": [
        "# What top 5 subjects girls take and what is the boys % in those subjects"
      ]
    },
    {
      "cell_type": "code",
      "metadata": {
        "id": "Yg_Qo_QVBA7P"
      },
      "source": [
        "tbd"
      ],
      "execution_count": null,
      "outputs": []
    },
    {
      "cell_type": "markdown",
      "metadata": {
        "id": "qiboWGrVBEJ3"
      },
      "source": [
        "# Grades of boys vs girls in SQA/A-level or GCSE which ever data is available"
      ]
    },
    {
      "cell_type": "markdown",
      "metadata": {
        "id": "jMMG7eAry_9Y"
      },
      "source": [
        "# Scratch space"
      ]
    },
    {
      "cell_type": "code",
      "metadata": {
        "colab": {
          "base_uri": "https://localhost:8080/",
          "height": 945
        },
        "id": "uoSjnBUozDdV",
        "outputId": "95771668-f59a-4090-ffda-7d1ac8b27aba"
      },
      "source": [
        "import pandas as pd\n",
        "import numpy as np\n",
        "import matplotlib.pyplot as plt\n",
        "\n",
        "def clean_data(df, isyr2015):\n",
        "  new_cnames = ['Subject', 'Total entries', 'Boys', 'Girls', 'Boys grades', 'Girls grades']\n",
        "  if isyr2015:\n",
        "    subject = 'Computing'\n",
        "  else:\n",
        "    subject = 'Computing Science'\n",
        "\n",
        "  df_1 = df.iloc[:, [0,1,2,3,10,11]]\n",
        "  df_1.drop([0,1,2,3,4,5,6,7], inplace=True)\n",
        "  df_1.reset_index(drop=True, inplace=True)\n",
        "  column_indices = [0,1,2,3,4,5]\n",
        "  old_names = df_1.columns[column_indices]\n",
        "  df_1.rename(columns=dict(zip(old_names, new_cnames)), inplace=True)\n",
        "  subject_index = df_1[df_1['Subject']==subject].index\n",
        "  print(f'Subject Index')\n",
        "  print(subject_index)\n",
        "  print(df_1.loc[subject_index])\n",
        "  total_entries = df_1.loc[subject_index, 'Total entries']\n",
        "  total_male = df_1.loc[subject_index, 'Boys'] * total_entries/100\n",
        "  total_female = total_entries - total_male\n",
        "  male_g = df_1.loc[subject_index, 'Boys grades'] * total_male/100\n",
        "  fmale_g = df_1.loc[subject_index, 'Girls grades'] * total_female/100\n",
        "\n",
        "  print(total_entries, total_male, total_female, male_g, fmale_g)\n",
        "  return total_entries, total_male, total_female, male_g, fmale_g\n",
        "\n",
        "\n",
        "def read_data_2019():\n",
        "\n",
        "  pd.options.display.max_columns= 10\n",
        "  pd.options.display.max_rows= 20\n",
        "\n",
        "  # Read National5, Higher and Advanced Higher stats\n",
        "  #n5_path = 'https://github.com/njaincode/final_project/blob/9c105cecfd292f55e6fcee669d15b14297a9b53d/SQA_datasets/2019/ASR2019_National5.xls?raw=true'\n",
        "  #h_path = 'https://github.com/njaincode/final_project/blob/9c105cecfd292f55e6fcee669d15b14297a9b53d/SQA_datasets/2019/ASR2019_Higher.xls?raw=true'\n",
        "  ah_path = 'https://github.com/njaincode/final_project/blob/9c105cecfd292f55e6fcee669d15b14297a9b53d/SQA_datasets/2019/ASR2019_AdvancedHigher.xls?raw=true'\n",
        "\n",
        "  #n5_path = 'https://github.com/njaincode/final_project/blob/main/SQA_datasets/2015/ASR2015_National5.xls?raw=true'\n",
        "  #h_path = 'https://github.com/njaincode/final_project/blob/main/SQA_datasets/2015/ASR2015_Higher.xls?raw=true'\n",
        "  #ah_path = 'https://github.com/njaincode/final_project/blob/main/SQA_datasets/2015/ASR2015_AdvancedHigher.xls?raw=true'\n",
        "  # There has been some changes to exam levels in this year\n",
        "  #new_h_path = 'https://github.com/njaincode/final_project/blob/main/SQA_datasets/2015/ASR2015_NewHigher.xls?raw=true'\n",
        "\n",
        "  # Read sheet name = Table 5\n",
        "  sheet_name = 'Table 5'\n",
        "  # The header is not in first row but row 8th instead\n",
        "  #df = pd.read_excel(n5_path, sheet_name=sheet_name,header=None)\n",
        "  #df = pd.read_excel(h_path, sheet_name=sheet_name)\n",
        "  df = pd.read_excel(ah_path, sheet_name=sheet_name, header=None)\n",
        "  \n",
        "  #return df_n5, df_h, df_ah\n",
        "  #return df_n5\n",
        "  #print(df_n5.head(20))\n",
        "  total_n5_2019_entries, total_n5_2019_male, total_n5_2019_female, maleg, fmaleg = clean_data(df, 0)\n",
        "  print(f'type of total')\n",
        "  print(type(total_n5_2019_entries))\n",
        "\n",
        "  df_years = pd.DataFrame(columns = ['Total', 'Male', 'Female', 'Mg', 'Fg'], index = [2019, 2018, 2017])\n",
        "  df_years['Total'] = [total_n5_2019_entries, total_n5_2019_entries, total_n5_2019_entries]\n",
        "  df_years['Male'] = [total_n5_2019_male, total_n5_2019_male, total_n5_2019_male]\n",
        "  df_years['Female'] = [total_n5_2019_female, total_n5_2019_female, total_n5_2019_female]\n",
        "  df_years['Mg'] = [maleg, maleg, maleg]\n",
        "  df_years['Fg'] = [fmaleg, fmaleg, fmaleg]\n",
        "\n",
        "  # Change to numerical value\n",
        "  df_years['Total'] = df_years['Total'].astype(int)\n",
        "  df_years['Male'] = df_years['Male'].astype(int)\n",
        "  df_years['Female'] = df_years['Female'].astype(int)\n",
        "  df_years['Mg'] = df_years['Mg'].astype(int)\n",
        "  df_years['Fg'] = df_years['Fg'].astype(int)\n",
        "\n",
        "  print(df_years)\n",
        "\n",
        "  #df_years.plot(kind='bar', title='Advanced Higher CS ', ylabel='Num of entries', xlabel='Year', stacked=False)\n",
        "\n",
        "  # Example to draw line graph\n",
        "  fig, ax = plt.subplots(1, 1, figsize=(15, 8))\n",
        "  xaxis = [2019, 2018, 2017, 2016, 2015]\n",
        "  yaxis = [10, 20, 30, 40, 50]\n",
        "\n",
        "  ax.plot(xaxis, yaxis, label='Female intake in AH')\n",
        "  major_ticks = np.arange(0, 51, 5)\n",
        "  ax.set_yticks(major_ticks)\n",
        "  major_ticks = np.arange(2015, 2020, 1)\n",
        "  ax.set_xticks(major_ticks)\n",
        "  plt.show()\n",
        "  \n",
        "   \n",
        "read_data_2019()"
      ],
      "execution_count": null,
      "outputs": [
        {
          "output_type": "stream",
          "text": [
            "Subject Index\n",
            "Int64Index([9], dtype='int64')\n",
            "             Subject Total entries     Boys    Girls Boys grades Girls grades\n",
            "9  Computing Science           614  85.5049  14.4951     64.7619      75.2809\n",
            "9    614\n",
            "Name: Total entries, dtype: object 9    525\n",
            "dtype: object 9    89\n",
            "dtype: object 9    340\n",
            "dtype: object 9    67\n",
            "dtype: object\n",
            "type of total\n",
            "<class 'pandas.core.series.Series'>\n",
            "      Total  Male  Female   Mg  Fg\n",
            "2019    614   525      88  340  67\n",
            "2018    614   525      88  340  67\n",
            "2017    614   525      88  340  67\n"
          ],
          "name": "stdout"
        },
        {
          "output_type": "stream",
          "text": [
            "/usr/local/lib/python3.7/dist-packages/pandas/core/frame.py:4174: SettingWithCopyWarning: \n",
            "A value is trying to be set on a copy of a slice from a DataFrame\n",
            "\n",
            "See the caveats in the documentation: https://pandas.pydata.org/pandas-docs/stable/user_guide/indexing.html#returning-a-view-versus-a-copy\n",
            "  errors=errors,\n",
            "/usr/local/lib/python3.7/dist-packages/pandas/core/frame.py:4308: SettingWithCopyWarning: \n",
            "A value is trying to be set on a copy of a slice from a DataFrame\n",
            "\n",
            "See the caveats in the documentation: https://pandas.pydata.org/pandas-docs/stable/user_guide/indexing.html#returning-a-view-versus-a-copy\n",
            "  errors=errors,\n"
          ],
          "name": "stderr"
        },
        {
          "output_type": "display_data",
          "data": {
            "image/png": "[encoded data removed]",
            "text/plain": [
              "<Figure size 1080x576 with 1 Axes>"
            ]
          },
          "metadata": {
            "tags": [],
            "needs_background": "light"
          }
        }
      ]
    }
  ]
}